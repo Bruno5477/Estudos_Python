{
 "cells": [
  {
   "cell_type": "markdown",
   "id": "0ee14825-cba1-4754-9939-9e0d242c285d",
   "metadata": {},
   "source": [
    "Treinando estruturas básicas do Python"
   ]
  },
  {
   "cell_type": "code",
   "execution_count": 1,
   "id": "09f152f2-226b-4051-b581-f36edd7d6a21",
   "metadata": {},
   "outputs": [
    {
     "name": "stdout",
     "output_type": "stream",
     "text": [
      "Amplitude:  3\n"
     ]
    }
   ],
   "source": [
    "#Calculando a amplitude\n",
    "def amplitude (lista):\n",
    "    print(\"Amplitude: \",max(lista) - min(lista))\n",
    "\n",
    "list = [1,2,3,4]\n",
    "amplitude(list)"
   ]
  },
  {
   "cell_type": "code",
   "execution_count": 11,
   "id": "4e9c5412-9c93-485c-a1d6-23f88e71580d",
   "metadata": {},
   "outputs": [
    {
     "name": "stdout",
     "output_type": "stream",
     "text": [
      "P\n",
      "y\n",
      "t\n",
      "h\n",
      "o\n",
      "n\n"
     ]
    }
   ],
   "source": [
    "#2. Faça uma função que receba uma string e imprima esta string na forma vertical\n",
    "def imprime(texto):\n",
    "    for n in range(0, len(texto)):\n",
    "        print(texto[n])\n",
    "\n",
    "imprime(\"Python\")"
   ]
  },
  {
   "cell_type": "code",
   "execution_count": 8,
   "id": "536b4058-2494-464b-a36c-4e17cdfdf1e9",
   "metadata": {},
   "outputs": [
    {
     "name": "stdout",
     "output_type": "stream",
     "text": [
      "O transporte não é aceito\n"
     ]
    }
   ],
   "source": [
    "peso = 25\n",
    "if peso <= 10:\n",
    "\tprint(\"Valor da carga é de R$ 50,00\")\n",
    "elif peso >= 11 and peso <=20:\n",
    "\tprint(\"Valor da carga é de R$ 80,00\")\n",
    "else:\n",
    "\tprint(\"O transporte não é aceito\")\n"
   ]
  },
  {
   "cell_type": "code",
   "execution_count": null,
   "id": "f2b7a856-0bf7-4ee7-b0cd-33b5d149af88",
   "metadata": {},
   "outputs": [],
   "source": []
  }
 ],
 "metadata": {
  "kernelspec": {
   "display_name": "Python 3",
   "language": "python",
   "name": "python3"
  },
  "language_info": {
   "codemirror_mode": {
    "name": "ipython",
    "version": 3
   },
   "file_extension": ".py",
   "mimetype": "text/x-python",
   "name": "python",
   "nbconvert_exporter": "python",
   "pygments_lexer": "ipython3",
   "version": "3.9.7"
  }
 },
 "nbformat": 4,
 "nbformat_minor": 5
}
